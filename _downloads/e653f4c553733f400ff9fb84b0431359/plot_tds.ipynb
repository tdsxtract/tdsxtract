{
  "cells": [
    {
      "cell_type": "markdown",
      "metadata": {},
      "source": [
        "\n# Extraction example\n\nTutorial.\n"
      ]
    },
    {
      "cell_type": "code",
      "execution_count": null,
      "metadata": {
        "collapsed": false
      },
      "outputs": [],
      "source": [
        "import matplotlib.pyplot as plt\nimport numpy as np\n\nimport tdsxtract as tx"
      ]
    },
    {
      "cell_type": "markdown",
      "metadata": {},
      "source": [
        "Define sample thickness\n\n"
      ]
    },
    {
      "cell_type": "code",
      "execution_count": null,
      "metadata": {
        "collapsed": false
      },
      "outputs": [],
      "source": [
        "sample_thickness = 500e-6"
      ]
    },
    {
      "cell_type": "markdown",
      "metadata": {},
      "source": [
        "First we load the reference and sample signals\n\n"
      ]
    },
    {
      "cell_type": "code",
      "execution_count": null,
      "metadata": {
        "collapsed": false
      },
      "outputs": [],
      "source": [
        "pos_ref, v_ref = tx.load(f\"data/reference.txt\")\npos_samp, v_samp = tx.load(f\"data/sample.txt\")\nassert np.all(pos_ref == pos_samp)\nposition = pos_ref * 1e-6"
      ]
    },
    {
      "cell_type": "markdown",
      "metadata": {},
      "source": [
        "We convert the position to time delay and plot the data\n\n"
      ]
    },
    {
      "cell_type": "code",
      "execution_count": null,
      "metadata": {
        "collapsed": false
      },
      "outputs": [],
      "source": [
        "time = tx.pos2time(position)\ntime_ps = time * 1e12\nplt.figure()\nplt.plot(time_ps, v_ref, label=\"reference\", c=\"#5aa2a2\")\nplt.plot(time_ps, v_samp, label=\"sample\", c=\"#b5514c\")\nplt.xlabel(\"time (ps)\")\nplt.ylabel(\"transmitted signal (mV)\")\nplt.xlim(time_ps[0], 30)\nplt.legend()\nplt.tight_layout()"
      ]
    },
    {
      "cell_type": "markdown",
      "metadata": {},
      "source": [
        "By looking at the first peak shift, we can get a rough estimate of  the\npermittivity\n\n"
      ]
    },
    {
      "cell_type": "code",
      "execution_count": null,
      "metadata": {
        "collapsed": false
      },
      "outputs": [],
      "source": [
        "eps_guess = tx.get_epsilon_estimate(v_ref, v_samp, time, sample_thickness)\nprint(eps_guess)"
      ]
    },
    {
      "cell_type": "markdown",
      "metadata": {},
      "source": [
        "We now switch to the frequency domain by computing the Fourier transform\n\n"
      ]
    },
    {
      "cell_type": "code",
      "execution_count": null,
      "metadata": {
        "collapsed": false
      },
      "outputs": [],
      "source": [
        "freqs_ref, fft_ref = tx.fft(time, v_ref)\nfreqs_samp, fft_samp = tx.fft(time, v_samp)\nfreqs_THz = freqs_ref * 1e-12\n\n\nplt.figure()\nplt.plot(freqs_THz, np.abs(fft_ref), label=\"reference\", c=\"#5aa2a2\")\nplt.plot(freqs_THz, np.abs(fft_samp), label=\"sample\", c=\"#b5514c\")\nplt.xlabel(\"frequency (THz)\")\nplt.ylabel(\"transmitted signal amplitude (mV)\")\nplt.xlim(0, 2)\nplt.legend()\nplt.tight_layout()\n\nplt.figure()\nplt.plot(\n    freqs_THz,\n    np.unwrap(np.angle(fft_ref)) * 180 / tx.pi,\n    label=\"reference\",\n    c=\"#5aa2a2\",\n)\nplt.plot(\n    freqs_THz,\n    np.unwrap(np.angle(fft_samp)) * 180 / tx.pi,\n    label=\"sample\",\n    c=\"#b5514c\",\n)\nplt.xlabel(\"frequency (THz)\")\nplt.ylabel(\"transmitted signal phase (degrees)\")\nplt.xlim(0, 2)\nplt.ylim(-10000, 0)\nplt.legend()\nplt.tight_layout()"
      ]
    },
    {
      "cell_type": "markdown",
      "metadata": {},
      "source": [
        "Let's calculate the transmission coefficient\n\n"
      ]
    },
    {
      "cell_type": "code",
      "execution_count": null,
      "metadata": {
        "collapsed": false
      },
      "outputs": [],
      "source": [
        "transmission = fft_samp / fft_ref\n\n\n#### TODO: wavelet transform check\n\n\n# import pywt\n# alpha = 0.01\n#\n# cA, cD = pywt.dwt(fft_ref, \"coif4\", \"smooth\")\n# cD = pywt.threshold(cD, alpha, \"soft\")\n# fft_ref_wl = pywt.idwt(cA, cD, \"coif4\", \"smooth\")\n#\n# cA, cD = pywt.dwt(fft_samp, \"coif4\", \"smooth\")\n# cD = pywt.threshold(cD, alpha, \"soft\")\n# fft_samp_wl = pywt.idwt(cA, cD, \"coif4\", \"smooth\")\n# transmission_wl = fft_samp_wl / fft_ref_wl\n#\n#\n# cA, cD = pywt.dwt(transmission, \"coif4\", \"smooth\")\n# cD = pywt.threshold(cD, alpha, \"soft\")\n# transmission_wl = pywt.idwt(cA, cD, \"coif4\", \"smooth\")\n#\n# transmission_wl = transmission_wl[:513]\n# transmission = transmission_wl\n\n#\n# # freqs_THz, imin, imax = restrict(freqs_THz, 0.1, 2.5)\n# # transmission = transmission[imin:imax]\n# plt.close(\"all\")\n# plt.figure()\n# plt.plot(freqs_THz, np.abs(transmission),\"-\")\n# plt.plot(freqs_THz, np.abs(transmission_wl),\"--\")\n# plt.xlabel(\"frequency (THz)\")\n# plt.ylabel(\"transmission amplitude\")\n# plt.xlim(0, 2)\n# plt.ylim(0, 1)\n# plt.tight_layout()\n#\n# plt.figure()\n# plt.plot(freqs_THz, (np.angle(transmission)) * 180 / np.pi,\"-\")\n# plt.plot(freqs_THz, (np.angle(transmission_wl)) * 180 / np.pi,\"--\")\n# plt.xlabel(\"frequency (THz)\")\n# plt.ylabel(\"transmission phase (degree)\")\n# plt.xlim(0, 2)\n# plt.tight_layout()\n\n\n#### adapted phase unwrapping scheme: discards the noisy phase at low frequencies,\n# and carries out a normal unwrapping with the reliable phase part. A missing phase\n# pro\ufb01le at low frequencies down to DC is then extrapolated from the unwrapped phase\n# at higher frequencies. In most cases the assumption of a linear phase is suf\ufb01cient\n# (Duvillaret et al. 1996). The whole phase pro\ufb01le is then forced to start at zero.\n#\n# phi = np.angle(transmission)\n# phi_unwrapped = np.unwrap(phi)\n# freqs1, imin, imax = restrict(freqs_THz, 0.1, 1)\n# phi1 = phi[imin:imax]\n#\n# phi1_unwrapped = np.unwrap(phi1)\n# fit = np.polyfit(freqs1, phi1_unwrapped, 1)\n#\n#\n# plt.close(\"all\")\n# plt.figure()\n# plt.plot(freqs_THz, phi_unwrapped)\n# plt.plot(freqs1, phi1_unwrapped, \"o\")\n# plt.plot(freqs_THz, fit[0] * freqs_THz)\n# plt.plot(freqs_THz, fit[0] * freqs_THz + fit[1], \"--\")\n# plt.show()\n#\n#\n# plt.xlabel(\"frequency (THz)\")\n# plt.ylabel(\"transmission phase (rad)\")\n# plt.tight_layout()\n#\n# phi = fit[0] * freqs_THz\n# transmission = np.abs(transmission) * np.exp(1j * phi)\n\nfreqs_THz, imin, imax = tx.restrict(freqs_THz, 0.2, 1.5)\ntransmission = transmission[imin:imax]"
      ]
    },
    {
      "cell_type": "markdown",
      "metadata": {},
      "source": [
        "To describe our sample we use a Sample object\n\n"
      ]
    },
    {
      "cell_type": "code",
      "execution_count": null,
      "metadata": {
        "collapsed": false
      },
      "outputs": [],
      "source": [
        "sample = tx.Sample(\n    {\n        \"unknown\": {\"epsilon\": None, \"mu\": 1.0, \"thickness\": sample_thickness},\n    }\n)"
      ]
    },
    {
      "cell_type": "markdown",
      "metadata": {},
      "source": [
        "We ar now ready to perform the extraction\n\n"
      ]
    },
    {
      "cell_type": "code",
      "execution_count": null,
      "metadata": {
        "collapsed": false
      },
      "outputs": [],
      "source": [
        "wavelengths = tx.c / freqs_THz * 1e-12\n\nepsilon_opt, h_opt, opt = tx.extract(\n    sample,\n    wavelengths,\n    transmission,\n    eps_re_min=1,\n    eps_re_max=100,\n    eps_im_min=-10,\n    eps_im_max=10,\n    epsilon_initial_guess=eps_guess,\n)"
      ]
    },
    {
      "cell_type": "markdown",
      "metadata": {},
      "source": [
        "Smooth the permittivity data\n\n"
      ]
    },
    {
      "cell_type": "code",
      "execution_count": null,
      "metadata": {
        "collapsed": false
      },
      "outputs": [],
      "source": [
        "eps_smooth = tx.smooth(epsilon_opt)"
      ]
    },
    {
      "cell_type": "markdown",
      "metadata": {},
      "source": [
        "Plot extracted values\n\n"
      ]
    },
    {
      "cell_type": "code",
      "execution_count": null,
      "metadata": {
        "collapsed": false
      },
      "outputs": [],
      "source": [
        "plt.figure()\nplt.plot(freqs_THz, epsilon_opt.real, \"o\", label=\"raw\", alpha=0.5, c=\"#5aa2a2\")\nplt.plot(freqs_THz, eps_smooth.real, label=\"smoothed\", c=\"#b5514c\")\nplt.xlabel(\"frequency (THz)\")\nplt.ylabel(r\"Re $\\varepsilon$\")\nplt.ylim(10, 14)\nplt.legend()\nplt.tight_layout()\n\n\nplt.figure()\nplt.plot(freqs_THz, epsilon_opt.imag, \"o\", label=\"raw\", alpha=0.5, c=\"#5aa2a2\")\nplt.plot(freqs_THz, eps_smooth.imag, label=\"smoothed\", c=\"#b5514c\")\nplt.xlabel(\"frequency (THz)\")\nplt.ylabel(r\"Im $\\varepsilon$\")\n\nplt.ylim(-1, 1)\nplt.legend()\nplt.tight_layout()"
      ]
    },
    {
      "cell_type": "markdown",
      "metadata": {},
      "source": [
        "Check the transmission\n\n"
      ]
    },
    {
      "cell_type": "code",
      "execution_count": null,
      "metadata": {
        "collapsed": false
      },
      "outputs": [],
      "source": [
        "t_model = tx.sample_transmission(\n    epsilon_opt, h_opt, sample=sample, wavelengths=wavelengths\n)\n\nt_model_smooth = tx.sample_transmission(\n    eps_smooth, h_opt, sample=sample, wavelengths=wavelengths\n)\n\n\ngamma = 2 * tx.pi / wavelengths\nthickness_tot = sum([k[\"thickness\"] for lay, k in sample.items()])\nphasor = np.exp(-1j * gamma * thickness_tot)\n\nfig, ax = plt.subplots()\nax.plot(\n    freqs_THz,\n    np.abs(transmission) ** 2,\n    \"s\",\n    label=\"meas.\",\n    alpha=0.3,\n    lw=0,\n    c=\"#656e7e\",\n    mew=0,\n)\nax.plot(\n    freqs_THz,\n    np.abs(t_model) ** 2,\n    \"-\",\n    label=\"sim. raw\",\n    alpha=0.3,\n    lw=1,\n    c=\"#656e7e\",\n    mew=0,\n)\nax.plot(\n    freqs_THz,\n    np.abs(t_model_smooth) ** 2,\n    \"-\",\n    label=\"sim. smooth\",\n    alpha=1,\n    lw=1,\n    c=\"#AE383E\",\n)\n\nax.set_ylim(0, 1)\nax.set_xlabel(\"frequency (THz)\")\nax.legend()\nax.set_ylabel(r\"amplitude\")\nplt.tight_layout()\n\nfig, ax = plt.subplots()\nax.plot(\n    freqs_THz,\n    (np.angle(phasor * transmission)) * 180 / tx.pi,\n    \"s\",\n    label=\"meas.\",\n    alpha=0.3,\n    lw=0,\n    c=\"#656e7e\",\n    mew=0,\n)\nax.plot(\n    freqs_THz,\n    (np.angle(t_model)) * 180 / tx.pi,\n    \"-\",\n    label=\"sim. raw\",\n    alpha=0.3,\n    lw=1,\n    c=\"#656e7e\",\n    mew=0,\n)\nax.plot(\n    freqs_THz,\n    (np.angle(t_model_smooth)) * 180 / tx.pi,\n    \"-\",\n    label=\"sim. smooth\",\n    alpha=1,\n    lw=1,\n    c=\"#AE383E\",\n)\nax.set_xlabel(\"frequency (THz)\")\nax.legend()\nax.set_ylabel(r\"phase\")\nplt.tight_layout()"
      ]
    }
  ],
  "metadata": {
    "kernelspec": {
      "display_name": "Python 3",
      "language": "python",
      "name": "python3"
    },
    "language_info": {
      "codemirror_mode": {
        "name": "ipython",
        "version": 3
      },
      "file_extension": ".py",
      "mimetype": "text/x-python",
      "name": "python",
      "nbconvert_exporter": "python",
      "pygments_lexer": "ipython3",
      "version": "3.11.9"
    }
  },
  "nbformat": 4,
  "nbformat_minor": 0
}